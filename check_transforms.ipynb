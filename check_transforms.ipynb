{
 "cells": [
  {
   "cell_type": "code",
   "execution_count": null,
   "metadata": {},
   "outputs": [],
   "source": [
    "%load_ext autoreload\n",
    "%autoreload 2\n",
    "%matplotlib inline"
   ]
  },
  {
   "cell_type": "code",
   "execution_count": null,
   "metadata": {},
   "outputs": [],
   "source": [
    "from pathlib import Path\n",
    "from skimage.io import imshow\n",
    "import matplotlib.pyplot as plt\n",
    "from tqdm import tqdm\n",
    "\n",
    "from torchvision.transforms import ToTensor, RandomCrop, Resize\n",
    "\n",
    "from leaf.dta import LeafDataset, GetPatches, TransformPatches, test_greenness"
   ]
  },
  {
   "cell_type": "code",
   "execution_count": null,
   "metadata": {},
   "outputs": [],
   "source": [
    "train_dset = LeafDataset(\"./data/train_images\", \"./data/train_images/labels.csv\")\n",
    "val_dset = LeafDataset(\"./data/val_images\", \"./data/val_images/labels.csv\")"
   ]
  },
  {
   "cell_type": "code",
   "execution_count": null,
   "metadata": {},
   "outputs": [],
   "source": [
    "img = train_dset[0][0]"
   ]
  },
  {
   "cell_type": "code",
   "execution_count": null,
   "metadata": {},
   "outputs": [],
   "source": [
    "imshow(img)"
   ]
  },
  {
   "cell_type": "code",
   "execution_count": null,
   "metadata": {},
   "outputs": [],
   "source": [
    "random_green = RandomGreen(64, 64, green_ratio=0.7)"
   ]
  },
  {
   "cell_type": "code",
   "execution_count": null,
   "metadata": {},
   "outputs": [],
   "source": [
    "nongreen_imgs = []\n",
    "green_imgs = []"
   ]
  },
  {
   "cell_type": "code",
   "execution_count": null,
   "metadata": {},
   "outputs": [],
   "source": [
    "for i in tqdm(range(1000)):\n",
    "    random_green(ToTensor()(img))"
   ]
  },
  {
   "cell_type": "code",
   "execution_count": null,
   "metadata": {},
   "outputs": [],
   "source": [
    "len(green_imgs)"
   ]
  },
  {
   "cell_type": "code",
   "execution_count": null,
   "metadata": {},
   "outputs": [],
   "source": [
    "len(nongreen_imgs)"
   ]
  },
  {
   "cell_type": "code",
   "execution_count": null,
   "metadata": {},
   "outputs": [],
   "source": [
    "def test_greenness(img, green_tol=0.1, ratio = 0.5):\n",
    "    green_mod = (img[1, :, :] + green_tol).reshape(-1)\n",
    "    n_pixels = len(green_mod)\n",
    "    #import pdb; pdb.set_trace()\n",
    "    return ((green_mod > img[0, :, :].reshape(-1)) & (green_mod > img[2, :, :].reshape(-1))).sum() / n_pixels > ratio"
   ]
  },
  {
   "cell_type": "code",
   "execution_count": null,
   "metadata": {},
   "outputs": [],
   "source": []
  },
  {
   "cell_type": "code",
   "execution_count": null,
   "metadata": {},
   "outputs": [],
   "source": [
    "test_greenness(green_imgs[0])"
   ]
  },
  {
   "cell_type": "code",
   "execution_count": null,
   "metadata": {},
   "outputs": [],
   "source": [
    "import random"
   ]
  },
  {
   "cell_type": "code",
   "execution_count": null,
   "metadata": {},
   "outputs": [],
   "source": [
    "idx = random.randint(0, 999)\n",
    "plt.imshow(green_imgs[idx].numpy().transpose([1, 2, 0]))"
   ]
  },
  {
   "cell_type": "code",
   "execution_count": null,
   "metadata": {},
   "outputs": [],
   "source": [
    "class RandomGreen(object):\n",
    "    def __init__(self, size_x, size_y, green_tol=0.1, green_ratio=0.5):\n",
    "        self.size_x = size_x\n",
    "        self.size_y = size_y\n",
    "        self.green_tol = green_tol\n",
    "        self.green_ratio = green_ratio\n",
    "        self.random_crop = RandomCrop(size=(size_x, size_y), pad_if_needed=True, fill=-1)\n",
    "\n",
    "    def __call__(self, img):\n",
    "        cand = self.random_crop(img)\n",
    "        while(not ((cand > -1).all() & test_greenness(cand, self.green_tol, self.green_ratio))):\n",
    "            nongreen_imgs.append(cand)\n",
    "            cand = self.random_crop(img)\n",
    "        green_imgs.append(cand)\n",
    "        return cand"
   ]
  },
  {
   "cell_type": "code",
   "execution_count": null,
   "metadata": {},
   "outputs": [],
   "source": [
    "nongreen_imgs"
   ]
  },
  {
   "cell_type": "code",
   "execution_count": null,
   "metadata": {},
   "outputs": [],
   "source": [
    "img = Resize((768, 576))(ToTensor()(img))"
   ]
  },
  {
   "cell_type": "code",
   "execution_count": null,
   "metadata": {},
   "outputs": [],
   "source": [
    "get_patches = GetPatches(768, 576, 12, 9)"
   ]
  },
  {
   "cell_type": "code",
   "execution_count": null,
   "metadata": {},
   "outputs": [],
   "source": [
    "patches = get_patches(img)"
   ]
  },
  {
   "cell_type": "code",
   "execution_count": null,
   "metadata": {},
   "outputs": [],
   "source": [
    "plt.imshow(patches[1].numpy().transpose([1, 2, 0]))"
   ]
  },
  {
   "cell_type": "code",
   "execution_count": null,
   "metadata": {},
   "outputs": [],
   "source": [
    "plt.imshow(img.numpy().transpose([1, 2, 0]))"
   ]
  },
  {
   "cell_type": "code",
   "execution_count": null,
   "metadata": {},
   "outputs": [],
   "source": []
  },
  {
   "cell_type": "code",
   "execution_count": null,
   "metadata": {},
   "outputs": [],
   "source": [
    "import torch"
   ]
  },
  {
   "cell_type": "code",
   "execution_count": null,
   "metadata": {},
   "outputs": [],
   "source": [
    "torch.tensor([1, 2]).shape"
   ]
  },
  {
   "cell_type": "code",
   "execution_count": null,
   "metadata": {},
   "outputs": [],
   "source": [
    "tuple(Out[112])"
   ]
  },
  {
   "cell_type": "code",
   "execution_count": null,
   "metadata": {},
   "outputs": [],
   "source": [
    "class GetPatches(object):\n",
    "    def __init__(self, img_width, img_height, x_patches, y_patches):\n",
    "        assert isinstance(img_width, (int, tuple))\n",
    "        assert isinstance(img_height, (int, tuple))\n",
    "        assert isinstance(x_patches, (int, tuple))\n",
    "        assert isinstance(y_patches, (int, tuple))\n",
    "        assert img_width % x_patches == 0 and img_height % y_patches == 0\n",
    "        self.x_patches = x_patches\n",
    "        self.y_patches = y_patches\n",
    "        self.img_width = img_width\n",
    "        self.img_height = img_height\n",
    "        self.patch_width = int(img_width / x_patches)\n",
    "        self.patch_height = int(img_height / y_patches)\n",
    "\n",
    "    def __call__(self, sample):\n",
    "        assert tuple(sample.shape[1:]) == (self.img_width, self.img_height)\n",
    "        patches = []\n",
    "        for x in range(self.x_patches):\n",
    "            for y in range(self.y_patches):\n",
    "                patch = sample[:, (x * self.patch_width):((x + 1) * self.patch_width), (y * self.patch_height):((y + 1) * self.patch_height)]\n",
    "                patches.append(patch)\n",
    "        return patches"
   ]
  },
  {
   "cell_type": "code",
   "execution_count": null,
   "metadata": {},
   "outputs": [],
   "source": []
  }
 ],
 "metadata": {
  "kernelspec": {
   "display_name": "Python 3",
   "language": "python",
   "name": "python3"
  },
  "language_info": {
   "codemirror_mode": {
    "name": "ipython",
    "version": 3
   },
   "file_extension": ".py",
   "mimetype": "text/x-python",
   "name": "python",
   "nbconvert_exporter": "python",
   "pygments_lexer": "ipython3",
   "version": "3.8.5"
  }
 },
 "nbformat": 4,
 "nbformat_minor": 4
}
