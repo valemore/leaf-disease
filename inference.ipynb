{
 "cells": [
  {
   "cell_type": "code",
   "execution_count": null,
   "metadata": {},
   "outputs": [],
   "source": [
    "# parent: train_vit_folds.ipynb"
   ]
  },
  {
   "cell_type": "code",
   "execution_count": null,
   "metadata": {},
   "outputs": [],
   "source": [
    "from pathlib import Path\n",
    "from tqdm import tqdm\n",
    "import math\n",
    "\n",
    "import numpy as np\n",
    "import pandas as pd\n",
    "\n",
    "import torch\n",
    "from torchvision import transforms\n",
    "\n",
    "from leaf.dta import LeafDataset, LeafIterableDataset, LeafDataLoader, GetPatches, TransformPatches, RandomGreen, \\\n",
    "    LeafDataLoader, GetRandomCrops, GetRandomResizedCrops, get_leaf_splits\n",
    "from leaf.model import LeafModel, train_one_epoch, validate_one_epoch, warmup\n",
    "\n",
    "\n",
    "\n",
    "\n",
    "# Transforms with normalizations for imagenet\n",
    "data_transforms = {\n",
    "    'tta-random': transforms.Compose([\n",
    "        transforms.ToTensor(),\n",
    "        GetRandomCrops(12, size=224),\n",
    "        TransformPatches(transforms.RandomHorizontalFlip()),\n",
    "        transforms.Lambda(lambda patches: torch.stack(patches)),\n",
    "        transforms.Normalize([0.485, 0.456, 0.406], [0.229, 0.224, 0.225])\n",
    "    ]),\n",
    "    'tta-12': transforms.Compose([\n",
    "        transforms.ToTensor(),\n",
    "        GetPatches(800, 600, 224, test_colors=False, include_center=False),\n",
    "        transforms.Lambda(lambda patches: torch.stack(patches)),\n",
    "        transforms.Normalize([0.485, 0.456, 0.406], [0.229, 0.224, 0.225])\n",
    "    ])\n",
    "}\n",
    "val_max_samples_per_image = 12\n",
    "ragged_batches = False"
   ]
  },
  {
   "cell_type": "code",
   "execution_count": null,
   "metadata": {},
   "outputs": [],
   "source": [
    "output_dir = Path(\"/mnt/hdd/leaf-disease-outputs\")\n",
    "output_dir.mkdir(exist_ok=True)\n",
    "logging_dir = Path(\"/mnt/hdd/leaf-disease-runs\")\n",
    "logging_dir.mkdir(exist_ok=True)\n",
    "\n",
    "batch_size = 16\n",
    "val_batch_size = 2\n",
    "\n",
    "learning_rate = 1e-4\n",
    "weight_decay = 0.0\n",
    "num_epochs = 12\n",
    "log_steps = 605\n",
    "\n",
    "num_workers = 4\n",
    "\n",
    "num_splits = 5\n",
    "folds = get_leaf_splits(\"./data/images/labels.csv\", num_splits, random_seed=5293)\n",
    "\n",
    "full_dset = LeafDataset(\"./data/images\", \"./data/images/labels.csv\")\n"
   ]
  },
  {
   "cell_type": "code",
   "execution_count": null,
   "metadata": {
    "jupyter": {
     "outputs_hidden": false
    },
    "pycharm": {
     "is_executing": true,
     "name": "#%%\n"
    }
   },
   "outputs": [],
   "source": [
    "for fold, (train_idxs, val_idxs) in enumerate(folds):\n",
    "    if fold == 0 or fold == 1 or fold == 3 or fold == 4:\n",
    "        continue\n",
    "        \n",
    "    torch.cuda.empty_cache()\n",
    "    \n",
    "    train_dset = LeafDataset.from_leaf_dataset(full_dset, train_idxs, transform=data_transforms[\"train\"])\n",
    "    val_dset = LeafDataset.from_leaf_dataset(full_dset, val_idxs, transform=data_transforms[\"val\"])\n",
    "\n",
    "    train_dataloader = LeafDataLoader(train_dset, batch_size=batch_size, shuffle=True, num_workers=num_workers, max_samples_per_image=max_samples_per_image)\n",
    "    val_dataloader = LeafDataLoader(val_dset, batch_size=val_batch_size, shuffle=False, num_workers=num_workers, max_samples_per_image=val_max_samples_per_image)\n",
    "\n",
    "    leaf_model = LeafModel(\"vit_base_patch16_224\", model_prefix=f\"vit_base_patch16_224_lr1e4_fold{fold}\", output_dir=output_dir, logging_dir=logging_dir, ragged_batches=ragged_batches)\n",
    "    optimizer = Adam(leaf_model.model.parameters(), lr=learning_rate, weight_decay=weight_decay)\n",
    "    scheduler = torch.optim.lr_scheduler.OneCycleLR(optimizer, max_lr=learning_rate, epochs=num_epochs, steps_per_epoch=len(train_dataloader), )\n",
    "    leaf_model.update_optimizer_scheduler(optimizer, scheduler)\n",
    "    \n",
    "#     if fold == 0:\n",
    "#         leaf_model.load_checkpoint(\"vit_base_patch16_224_lr1e4_fold0_12-epochs-11\")\n",
    "\n",
    "#         run_name = f\"{leaf_model.model_prefix}_{num_epochs}-epochs\"\n",
    "#         for epoch in range(12, num_epochs+1):\n",
    "#             epoch_name = f\"{run_name}-{epoch}\"\n",
    "#             train_one_epoch(leaf_model, train_dataloader, log_steps=log_steps, val_data_loader=val_dataloader, save_at_log_steps=True, epoch_name=epoch_name)\n",
    "#             val_loss, val_raw_acc, val_logits_mean_acc, val_probs_mean_acc = validate_one_epoch(leaf_model, val_dataloader)\n",
    "#             print(f\"Validation after epoch {epoch}: loss {val_loss}, raw acc {val_raw_acc}, logits mean acc {val_logits_mean_acc}, probs mean acc {val_probs_mean_acc}\")\n",
    "#             tb_writer = SummaryWriter(log_dir=leaf_model.logging_model_dir / epoch_name)\n",
    "#             val_step = epoch * len(train_dataloader)\n",
    "#             tb_writer.add_scalar(\"loss/val\", val_loss, val_step)\n",
    "#             tb_writer.add_scalar(\"raw_acc/val\", val_raw_acc, val_step)\n",
    "#             tb_writer.add_scalar(\"logits_mean_acc/val\", val_logits_mean_acc, val_step)\n",
    "#             tb_writer.add_scalar(\"probs_mean_acc/val\", val_probs_mean_acc, val_step)\n",
    "#             tb_writer.close()\n",
    "#             leaf_model.save_checkpoint(f\"{epoch_name}\", epoch=epoch)\n",
    "\n",
    "    if fold == 2:\n",
    "        leaf_model.load_checkpoint(\"vit_base_patch16_224_lr1e4_fold2_12-epochs-6\")\n",
    "\n",
    "        run_name = f\"{leaf_model.model_prefix}_{num_epochs}-epochs\"\n",
    "        for epoch in range(7, num_epochs+1):\n",
    "            epoch_name = f\"{run_name}-{epoch}\"\n",
    "            train_one_epoch(leaf_model, train_dataloader, log_steps=log_steps, val_data_loader=val_dataloader, save_at_log_steps=True, epoch_name=epoch_name)\n",
    "            val_loss, val_raw_acc, val_logits_mean_acc, val_probs_mean_acc = validate_one_epoch(leaf_model, val_dataloader)\n",
    "            print(f\"Validation after epoch {epoch}: loss {val_loss}, raw acc {val_raw_acc}, logits mean acc {val_logits_mean_acc}, probs mean acc {val_probs_mean_acc}\")\n",
    "            tb_writer = SummaryWriter(log_dir=leaf_model.logging_model_dir / epoch_name)\n",
    "            val_step = epoch * len(train_dataloader)\n",
    "            tb_writer.add_scalar(\"loss/val\", val_loss, val_step)\n",
    "            tb_writer.add_scalar(\"raw_acc/val\", val_raw_acc, val_step)\n",
    "            tb_writer.add_scalar(\"logits_mean_acc/val\", val_logits_mean_acc, val_step)\n",
    "            tb_writer.add_scalar(\"probs_mean_acc/val\", val_probs_mean_acc, val_step)\n",
    "            tb_writer.close()\n",
    "            leaf_model.save_checkpoint(f\"{epoch_name}\", epoch=epoch)\n"
   ]
  },
  {
   "cell_type": "code",
   "execution_count": null,
   "metadata": {},
   "outputs": [],
   "source": [
    "#torch.cuda.empty_cache()"
   ]
  },
  {
   "cell_type": "code",
   "execution_count": null,
   "metadata": {},
   "outputs": [],
   "source": [
    "if False:\n",
    "    alt_transform = transforms.Compose([\n",
    "            transforms.ToTensor(),\n",
    "            GetPatches(800, 600, 224, test_colors=False, include_center=False),\n",
    "            transforms.Lambda(lambda patches: torch.stack(patches)),\n",
    "            transforms.Normalize([0.485, 0.456, 0.406], [0.229, 0.224, 0.225])\n",
    "    ])\n",
    "    alt_val_dset = LeafDataset(\"./data/val_images\", \"./data/val_images/labels.csv\", transform=alt_transform, tiny=False)\n",
    "    alt_val_dataloader = LeafDataLoader(alt_val_dset, batch_size=val_batch_size, shuffle=False, num_workers=num_workers, max_samples_per_image=12)"
   ]
  },
  {
   "cell_type": "code",
   "execution_count": null,
   "metadata": {},
   "outputs": [],
   "source": [
    "if False:\n",
    "    run_name = f\"{leaf_model.model_prefix}-{num_epochs}-epochs\"\n",
    "    for epoch in range(1, num_epochs+1):\n",
    "        epoch_name = f\"{run_name}-{epoch}\"\n",
    "        leaf_model.load_checkpoint(f\"{epoch_name}\")\n",
    "        val_loss, val_raw_acc, val_logits_mean_acc, val_probs_mean_acc = validate_one_epoch(leaf_model, alt_val_dataloader)\n",
    "        print(f\"Validation after epoch {epoch}: loss {val_loss}, raw acc {val_raw_acc}, logits mean acc {val_logits_mean_acc}, probs mean acc {val_probs_mean_acc}\")"
   ]
  },
  {
   "cell_type": "code",
   "execution_count": null,
   "metadata": {},
   "outputs": [],
   "source": []
  }
 ],
 "metadata": {
  "kernelspec": {
   "display_name": "Python 3",
   "language": "python",
   "name": "python3"
  },
  "language_info": {
   "codemirror_mode": {
    "name": "ipython",
    "version": 3
   },
   "file_extension": ".py",
   "mimetype": "text/x-python",
   "name": "python",
   "nbconvert_exporter": "python",
   "pygments_lexer": "ipython3",
   "version": "3.8.5"
  }
 },
 "nbformat": 4,
 "nbformat_minor": 4
}