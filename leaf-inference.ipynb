{
 "cells": [
  {
   "cell_type": "code",
   "execution_count": 1,
   "metadata": {
    "papermill": {
     "duration": 0.015019,
     "end_time": "2021-02-16T20:07:39.150656",
     "exception": false,
     "start_time": "2021-02-16T20:07:39.135637",
     "status": "completed"
    },
    "tags": []
   },
   "outputs": [],
   "source": [
    "folds_path = \"submission/final10/\""
   ]
  },
  {
   "cell_type": "code",
   "execution_count": 2,
   "metadata": {
    "papermill": {
     "duration": 4.24238,
     "end_time": "2021-02-16T20:07:43.418510",
     "exception": false,
     "start_time": "2021-02-16T20:07:39.176130",
     "status": "completed"
    },
    "tags": []
   },
   "outputs": [],
   "source": [
    "from tqdm import tqdm\n",
    "from pathlib import Path\n",
    "\n",
    "import numpy as np\n",
    "import pandas as pd\n",
    "import cv2\n",
    "from scipy.special import softmax\n",
    "\n",
    "import torch\n",
    "import torch.nn.functional as F\n",
    "from torch.utils.data import Dataset, DataLoader\n",
    "\n",
    "import timm\n",
    "\n",
    "import albumentations as A\n",
    "from albumentations.pytorch.transforms import ToTensorV2"
   ]
  },
  {
   "cell_type": "code",
   "execution_count": 3,
   "metadata": {
    "papermill": {
     "duration": 0.028006,
     "end_time": "2021-02-16T20:07:43.455930",
     "exception": false,
     "start_time": "2021-02-16T20:07:43.427924",
     "status": "completed"
    },
    "tags": []
   },
   "outputs": [],
   "source": [
    "TINY_SIZE=100\n",
    "tiny=True\n",
    "class LeafDataset(Dataset):\n",
    "    \"\"\"Cassava Leaf Disease Classification dataset.\"\"\"\n",
    "\n",
    "    def __init__(self, img_dir, transform=None, tiny=False):\n",
    "        self.img_dir = img_dir if isinstance(img_dir, Path) else Path(img_dir)\n",
    "        self.transform = transform\n",
    "        self.tiny = tiny\n",
    "        self.fnames = np.array([img.name for img in img_dir.glob(\"*.jpg\")])\n",
    "        if self.tiny:\n",
    "            self.fnames = self.fnames[:TINY_SIZE]\n",
    "        self.labels = None\n",
    "        self.dataset_len = len(self.fnames)\n",
    "\n",
    "    def __len__(self):\n",
    "        return self.dataset_len\n",
    "\n",
    "    def __getitem__(self, idx):\n",
    "        # img = io.imread(self.img_dir / self.fnames[idx])\n",
    "        img = cv2.imread(str(self.img_dir / self.fnames[idx]))\n",
    "        img = cv2.cvtColor(img, cv2.COLOR_BGR2RGB)\n",
    "        if self.transform:\n",
    "            img = self.transform(image=img)[\"image\"]\n",
    "        return img, idx"
   ]
  },
  {
   "cell_type": "code",
   "execution_count": 4,
   "metadata": {
    "papermill": {
     "duration": 34.597057,
     "end_time": "2021-02-16T20:08:18.063089",
     "exception": false,
     "start_time": "2021-02-16T20:07:43.466032",
     "status": "completed"
    },
    "tags": []
   },
   "outputs": [],
   "source": [
    "arch = \"tf_efficientnet_b4_ns\"\n",
    "tta_img_size = 446\n",
    "batch_size = 32\n",
    "\n",
    "num_folds = 4\n",
    "num_tta = 10\n",
    "num_classes = 5\n",
    "\n",
    "tta_transforms = A.Compose([\n",
    "    A.Resize(tta_img_size, tta_img_size),\n",
    "    A.ShiftScaleRotate(shift_limit=0.2, scale_limit=0.2, rotate_limit=90, p=1.0),\n",
    "    A.RandomBrightnessContrast(brightness_limit=0.2, contrast_limit=0.2, p=1.0),\n",
    "    A.RGBShift(p=1.0),\n",
    "    A.HorizontalFlip(p=0.5),\n",
    "    A.Normalize(mean=(0.485, 0.456, 0.406), std=(0.229, 0.224, 0.225), max_pixel_value=255.0, p=1.0),\n",
    "    ToTensorV2()\n",
    "])\n",
    "\n",
    "dset = LeafDataset(Path(\"data/mock_test\"), transform=tta_transforms, tiny=tiny)\n",
    "\n",
    "model = timm.create_model(model_name=arch, num_classes=5, pretrained=False)\n",
    "device = torch.device(\"cuda\")"
   ]
  },
  {
   "cell_type": "code",
   "execution_count": 5,
   "metadata": {
    "papermill": {
     "duration": 34.597057,
     "end_time": "2021-02-16T20:08:18.063089",
     "exception": false,
     "start_time": "2021-02-16T20:07:43.466032",
     "status": "completed"
    },
    "tags": []
   },
   "outputs": [
    {
     "name": "stderr",
     "output_type": "stream",
     "text": [
      "100%|██████████| 40/40 [00:56<00:00,  1.40s/it]"
     ]
    }
   ],
   "source": [
    "checkpoint_dir = Path(folds_path)\n",
    "checkpoints = {\n",
    "    0: \"final10_fold0.pth\",\n",
    "    1: \"final10_fold1.pth\",\n",
    "    2: \"final10_fold2.pth\",\n",
    "    3: \"final10_fold3.pth\",\n",
    "    4: \"final10_fold4.pth\"\n",
    "}\n",
    "\n",
    "torch.cuda.empty_cache()\n",
    "pbar = tqdm(total=num_folds*num_tta)\n",
    "logits_all = np.zeros((num_folds, num_tta, len(dset), num_classes), dtype=float)\n",
    "for fold in range(num_folds):\n",
    "    checkpoint = checkpoint_dir / checkpoints[fold]\n",
    "    checkpoint_dict = torch.load(checkpoint)\n",
    "    model.load_state_dict(checkpoint_dict['model_state_dict'])\n",
    "\n",
    "    model = model.to(device)\n",
    "    model.eval()\n",
    "\n",
    "    dataloader = DataLoader(dset, batch_size=batch_size, shuffle=False, num_workers=4, pin_memory=True)\n",
    "\n",
    "    with torch.no_grad():\n",
    "        for i_tta in range(num_tta):\n",
    "            logits = torch.zeros((len(dset), 5), dtype=float, device=device)\n",
    "            i = 0\n",
    "            for imgs, idxs in dataloader:\n",
    "                imgs = imgs.to(device)\n",
    "                bs = imgs.shape[0]\n",
    "                logits[i:(i + bs), :] = model.forward(imgs)\n",
    "                i += bs\n",
    "            pbar.update(1)\n",
    "            logits = logits[:i]\n",
    "            logits_all[fold, i_tta, :, :] = logits.cpu().numpy()\n",
    "\n",
    "probs1 = softmax(logits_all, axis=-1)\n",
    "probs1 = np.mean(probs1.reshape(-1, len(dset), num_classes), axis=0)"
   ]
  },
  {
   "cell_type": "code",
   "execution_count": 6,
   "metadata": {},
   "outputs": [],
   "source": [
    "whole_checkpoint = \"submission/final10_whole/final10_whole.pth\""
   ]
  },
  {
   "cell_type": "code",
   "execution_count": 8,
   "metadata": {},
   "outputs": [
    {
     "name": "stderr",
     "output_type": "stream",
     "text": [
      "100%|██████████| 10/10 [00:13<00:00,  1.36s/it]"
     ]
    }
   ],
   "source": [
    "torch.cuda.empty_cache()\n",
    "pbar = tqdm(total=num_tta)\n",
    "logits_all = np.zeros((num_tta, len(dset), num_classes), dtype=float)\n",
    "\n",
    "checkpoint_dict = torch.load(whole_checkpoint)\n",
    "model.load_state_dict(checkpoint_dict['model_state_dict'])\n",
    "\n",
    "model = model.to(device)\n",
    "model.eval()\n",
    "\n",
    "dataloader = DataLoader(dset, batch_size=batch_size, shuffle=False, num_workers=4, pin_memory=True)\n",
    "\n",
    "with torch.no_grad():\n",
    "    for i_tta in range(num_tta):\n",
    "        logits = torch.zeros((len(dset), 5), dtype=float, device=device)\n",
    "        i = 0\n",
    "        for imgs, idxs in dataloader:\n",
    "            imgs = imgs.to(device)\n",
    "            bs = imgs.shape[0]\n",
    "            logits[i:(i + bs), :] = model.forward(imgs)\n",
    "            i += bs\n",
    "        pbar.update(1)\n",
    "        logits = logits[:i]\n",
    "        logits_all[i_tta, :, :] = logits.cpu().numpy()\n",
    "\n",
    "probs2 = softmax(logits_all, axis=-1)\n",
    "probs2 = np.mean(probs2, axis=0)"
   ]
  },
  {
   "cell_type": "code",
   "execution_count": 9,
   "metadata": {},
   "outputs": [],
   "source": [
    "probs = (probs1 + probs2) / 2"
   ]
  },
  {
   "cell_type": "code",
   "execution_count": 10,
   "metadata": {
    "papermill": {
     "duration": 34.597057,
     "end_time": "2021-02-16T20:08:18.063089",
     "exception": false,
     "start_time": "2021-02-16T20:07:43.466032",
     "status": "completed"
    },
    "tags": []
   },
   "outputs": [],
   "source": [
    "preds = probs.argmax(axis=-1)"
   ]
  },
  {
   "cell_type": "code",
   "execution_count": 11,
   "metadata": {},
   "outputs": [],
   "source": [
    "gold_df = pd.read_csv(\"data/test_df.csv\")"
   ]
  },
  {
   "cell_type": "code",
   "execution_count": 12,
   "metadata": {},
   "outputs": [
    {
     "data": {
      "text/plain": [
       "0.022201448936667447"
      ]
     },
     "execution_count": 12,
     "metadata": {},
     "output_type": "execute_result"
    }
   ],
   "source": [
    "np.sum(gold_df.set_index(\"image_id\").loc[dset.fnames].values.reshape(-1) == preds)/gold_df.shape[0]"
   ]
  },
  {
   "cell_type": "code",
   "execution_count": 7,
   "metadata": {
    "papermill": {
     "duration": 0.037384,
     "end_time": "2021-02-16T20:08:18.127229",
     "exception": false,
     "start_time": "2021-02-16T20:08:18.089845",
     "status": "completed"
    },
    "tags": []
   },
   "outputs": [],
   "source": [
    "submission_df = pd.DataFrame({\"image_id\": dset.fnames, \"label\": preds})"
   ]
  },
  {
   "cell_type": "code",
   "execution_count": 8,
   "metadata": {
    "papermill": {
     "duration": 0.344017,
     "end_time": "2021-02-16T20:08:18.498021",
     "exception": false,
     "start_time": "2021-02-16T20:08:18.154004",
     "status": "completed"
    },
    "tags": []
   },
   "outputs": [],
   "source": [
    "submission_df.to_csv(\"submission.csv\", index=False)"
   ]
  },
  {
   "cell_type": "code",
   "execution_count": 9,
   "metadata": {},
   "outputs": [],
   "source": [
    "# Exploration"
   ]
  },
  {
   "cell_type": "code",
   "execution_count": 10,
   "metadata": {},
   "outputs": [],
   "source": [
    "probs2 = softmax(logits_all, axis=-1)\n",
    "probs2 = np.median(probs2.reshape(-1, len(dset), num_classes), axis=0)\n",
    "preds2 = probs2.argmax(axis=-1)"
   ]
  },
  {
   "cell_type": "code",
   "execution_count": 11,
   "metadata": {},
   "outputs": [
    {
     "data": {
      "text/plain": [
       "0.9366674456648749"
      ]
     },
     "execution_count": 11,
     "metadata": {},
     "output_type": "execute_result"
    }
   ],
   "source": [
    "np.sum(gold_df.set_index(\"image_id\").loc[dset.fnames].values.reshape(-1) == preds2)/gold_df.shape[0]"
   ]
  },
  {
   "cell_type": "markdown",
   "metadata": {},
   "source": [
    "# Log \n",
    "# 1 (wrong)\n",
    "num_tta = 12\n",
    "tta_transforms = A.Compose([\n",
    "    A.Resize(tta_img_size, tta_img_size),\n",
    "    A.ShiftScaleRotate(shift_limit=0.2, scale_limit=0.2, rotate_limit=90, p=1.0),\n",
    "    A.RandomBrightnessContrast(brightness_limit=0.2, contrast_limit=0.2, p=1.0),\n",
    "    A.RGBShift(p=1.0),\n",
    "    A.HorizontalFlip(p=0.5),\n",
    "    A.Normalize(mean=(0.485, 0.456, 0.406), std=(0.229, 0.224, 0.225), max_pixel_value=255.0, p=1.0),\n",
    "    ToTensorV2()\n",
    "])\n",
    "\n",
    "mean 0.9291890628651555\n",
    "median 0.9298901612526291\n",
    "\n",
    "# 2 fixed\n",
    "0.9354989483524188\n",
    "0.9354989483524188\n",
    "\n",
    "# one tta\n",
    "0.9340967515774714 (mean better)\n",
    "\n",
    "# no tta\n",
    "0.938 (mean better)\n",
    "\n",
    "# only h flip, 5 tta\n",
    "0.9366674456648749\n",
    "\n",
    "# h flip, transpose, 10 tta"
   ]
  },
  {
   "cell_type": "markdown",
   "metadata": {},
   "source": [
    "0.9364337462023837"
   ]
  },
  {
   "cell_type": "markdown",
   "metadata": {},
   "source": [
    "# h flip, v flip, 10 tta\n",
    "0.9347978499649451"
   ]
  },
  {
   "cell_type": "markdown",
   "metadata": {},
   "source": [
    "# h flip, ssr\n",
    "0.9331619537275064"
   ]
  },
  {
   "cell_type": "markdown",
   "metadata": {},
   "source": [
    "# ssr with no rotation, hflip\n",
    "just a bit better than no"
   ]
  },
  {
   "cell_type": "markdown",
   "metadata": {},
   "source": [
    "# rbc and rbg shift\n",
    "worse\n",
    "0.9369011451273662"
   ]
  },
  {
   "cell_type": "code",
   "execution_count": null,
   "metadata": {},
   "outputs": [],
   "source": []
  }
 ],
 "metadata": {
  "kernelspec": {
   "display_name": "Python 3",
   "language": "python",
   "name": "python3"
  },
  "language_info": {
   "codemirror_mode": {
    "name": "ipython",
    "version": 3
   },
   "file_extension": ".py",
   "mimetype": "text/x-python",
   "name": "python",
   "nbconvert_exporter": "python",
   "pygments_lexer": "ipython3",
   "version": "3.8.3"
  },
  "papermill": {
   "duration": 44.486222,
   "end_time": "2021-02-16T20:08:19.149933",
   "environment_variables": {},
   "exception": null,
   "input_path": "__notebook__.ipynb",
   "output_path": "__notebook__.ipynb",
   "parameters": {},
   "start_time": "2021-02-16T20:07:34.663711",
   "version": "2.1.0"
  }
 },
 "nbformat": 4,
 "nbformat_minor": 4
}
