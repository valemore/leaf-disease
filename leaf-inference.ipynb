{
 "cells": [
  {
   "cell_type": "code",
   "execution_count": 1,
   "metadata": {
    "execution": {
     "iopub.execute_input": "2021-02-18T15:52:42.269012Z",
     "iopub.status.busy": "2021-02-18T15:52:42.268227Z",
     "iopub.status.idle": "2021-02-18T15:52:42.271171Z",
     "shell.execute_reply": "2021-02-18T15:52:42.270686Z"
    },
    "papermill": {
     "duration": 0.013795,
     "end_time": "2021-02-18T15:52:42.271281",
     "exception": false,
     "start_time": "2021-02-18T15:52:42.257486",
     "status": "completed"
    },
    "tags": []
   },
   "outputs": [],
   "source": [
    "test_images_path = \"/kaggle/input/cassava-leaf-disease-classification/test_images\"\n",
    "timm_path = \"/kaggle/input/timm-pytorch-image-models/pytorch-image-models-master\"\n",
    "folds_path = \"../input/leaf-cherry\""
   ]
  },
  {
   "cell_type": "code",
   "execution_count": 2,
   "metadata": {
    "execution": {
     "iopub.execute_input": "2021-02-18T15:52:42.286623Z",
     "iopub.status.busy": "2021-02-18T15:52:42.285915Z",
     "iopub.status.idle": "2021-02-18T15:52:42.288765Z",
     "shell.execute_reply": "2021-02-18T15:52:42.288343Z"
    },
    "papermill": {
     "duration": 0.011285,
     "end_time": "2021-02-18T15:52:42.288849",
     "exception": false,
     "start_time": "2021-02-18T15:52:42.277564",
     "status": "completed"
    },
    "tags": []
   },
   "outputs": [],
   "source": [
    "import sys; sys.path.extend([timm_path])"
   ]
  },
  {
   "cell_type": "code",
   "execution_count": 3,
   "metadata": {
    "execution": {
     "iopub.execute_input": "2021-02-18T15:52:42.305062Z",
     "iopub.status.busy": "2021-02-18T15:52:42.304473Z",
     "iopub.status.idle": "2021-02-18T15:52:46.086753Z",
     "shell.execute_reply": "2021-02-18T15:52:46.085886Z"
    },
    "papermill": {
     "duration": 3.792688,
     "end_time": "2021-02-18T15:52:46.086858",
     "exception": false,
     "start_time": "2021-02-18T15:52:42.294170",
     "status": "completed"
    },
    "tags": []
   },
   "outputs": [],
   "source": [
    "from tqdm import tqdm\n",
    "from pathlib import Path\n",
    "\n",
    "import numpy as np\n",
    "import pandas as pd\n",
    "import cv2\n",
    "from scipy.special import softmax\n",
    "\n",
    "import torch\n",
    "import torch.nn.functional as F\n",
    "from torch.utils.data import Dataset, DataLoader\n",
    "\n",
    "import timm\n",
    "\n",
    "import albumentations as A\n",
    "from albumentations.pytorch.transforms import ToTensorV2"
   ]
  },
  {
   "cell_type": "code",
   "execution_count": 4,
   "metadata": {
    "execution": {
     "iopub.execute_input": "2021-02-18T15:52:46.109481Z",
     "iopub.status.busy": "2021-02-18T15:52:46.108268Z",
     "iopub.status.idle": "2021-02-18T15:52:46.110708Z",
     "shell.execute_reply": "2021-02-18T15:52:46.111133Z"
    },
    "papermill": {
     "duration": 0.017989,
     "end_time": "2021-02-18T15:52:46.111242",
     "exception": false,
     "start_time": "2021-02-18T15:52:46.093253",
     "status": "completed"
    },
    "tags": []
   },
   "outputs": [],
   "source": [
    "tiny=False\n",
    "class LeafDataset(Dataset):\n",
    "    \"\"\"Cassava Leaf Disease Classification dataset.\"\"\"\n",
    "\n",
    "    def __init__(self, img_dir, transform=None, tiny=False):\n",
    "        self.img_dir = img_dir if isinstance(img_dir, Path) else Path(img_dir)\n",
    "        self.transform = transform\n",
    "        self.tiny = tiny\n",
    "        self.fnames = np.array([img.name for img in img_dir.glob(\"*.jpg\")])\n",
    "        if self.tiny:\n",
    "            self.fnames = self.fnames[:TINY_SIZE]\n",
    "        self.labels = None\n",
    "        self.dataset_len = len(self.fnames)\n",
    "\n",
    "    def __len__(self):\n",
    "        return self.dataset_len\n",
    "\n",
    "    def __getitem__(self, idx):\n",
    "        # img = io.imread(self.img_dir / self.fnames[idx])\n",
    "        img = cv2.imread(str(self.img_dir / self.fnames[idx]))\n",
    "        img = cv2.cvtColor(img, cv2.COLOR_BGR2RGB)\n",
    "        if self.transform:\n",
    "            img = self.transform(image=img)[\"image\"]\n",
    "        return img, idx"
   ]
  },
  {
   "cell_type": "code",
   "execution_count": 5,
   "metadata": {
    "execution": {
     "iopub.execute_input": "2021-02-18T15:52:46.139844Z",
     "iopub.status.busy": "2021-02-18T15:52:46.134733Z",
     "iopub.status.idle": "2021-02-18T15:53:21.050963Z",
     "shell.execute_reply": "2021-02-18T15:53:21.051451Z"
    },
    "papermill": {
     "duration": 34.934851,
     "end_time": "2021-02-18T15:53:21.051575",
     "exception": false,
     "start_time": "2021-02-18T15:52:46.116724",
     "status": "completed"
    },
    "tags": []
   },
   "outputs": [
    {
     "name": "stderr",
     "output_type": "stream",
     "text": [
      "100%|██████████| 60/60 [00:34<00:00,  4.95it/s]"
     ]
    }
   ],
   "source": [
    "arch = \"tf_efficientnet_b4_ns\"\n",
    "tta_img_size = 446\n",
    "batch_size = 32\n",
    "\n",
    "checkpoint_dir = Path(folds_path)\n",
    "checkpoints = {\n",
    "    0: \"final10_fold0.pth\",\n",
    "    1: \"final10_fold1.pth\",\n",
    "    2: \"final20_fold2.pth\",\n",
    "    3: \"final20_fold3.pth\",\n",
    "    4: \"final20_fold4.pth\"\n",
    "}\n",
    "\n",
    "num_folds = 5\n",
    "num_tta = 12\n",
    "num_classes = 5\n",
    "\n",
    "tta_transforms = A.Compose([\n",
    "    A.Resize(tta_img_size, tta_img_size),\n",
    "    A.ShiftScaleRotate(shift_limit=0.2, scale_limit=0.2, rotate_limit=30, p=1.0),\n",
    "    A.RandomBrightnessContrast(brightness_limit=0.03, contrast_limit=0.03, p=1.0),\n",
    "    A.HorizontalFlip(p=0.5),\n",
    "    A.Normalize(mean=(0.485, 0.456, 0.406), std=(0.229, 0.224, 0.225), max_pixel_value=255.0, p=1.0),\n",
    "    ToTensorV2()\n",
    "])\n",
    "\n",
    "dset = LeafDataset(Path(test_images_path), transform=tta_transforms, tiny=tiny)\n",
    "\n",
    "model = timm.create_model(model_name=arch, num_classes=5, pretrained=False)\n",
    "device = torch.device(\"cuda\")\n",
    "\n",
    "torch.cuda.empty_cache()\n",
    "pbar = tqdm(total=num_folds*num_tta)\n",
    "logits_all = np.zeros((num_folds, num_tta, len(dset), num_classes), dtype=float)\n",
    "for fold in range(num_folds):\n",
    "    checkpoint = checkpoint_dir / checkpoints[fold]\n",
    "    checkpoint_dict = torch.load(checkpoint)\n",
    "    model.load_state_dict(checkpoint_dict['model_state_dict'])\n",
    "\n",
    "    model = model.to(device)\n",
    "    model.eval()\n",
    "\n",
    "    dataloader = DataLoader(dset, batch_size=batch_size, shuffle=False, num_workers=4, pin_memory=True)\n",
    "\n",
    "    with torch.no_grad():\n",
    "        for i_tta in range(num_tta):\n",
    "            logits = torch.zeros((len(dset), 5), dtype=float, device=device)\n",
    "            i = 0\n",
    "            for imgs, idxs in dataloader:\n",
    "                imgs = imgs.to(device)\n",
    "                bs = imgs.shape[0]\n",
    "                logits[i:(i + bs), :] = model.forward(imgs)\n",
    "                i += bs\n",
    "            pbar.update(1)\n",
    "            logits = logits[:i]\n",
    "            logits_all[fold, i_tta, :, :] = logits.cpu().numpy()\n",
    "\n",
    "probs = softmax(logits_all, axis=-1)\n",
    "probs = np.mean(probs.reshape(-1, len(dset), num_classes), axis=0)\n",
    "preds = probs.argmax(axis=-1)"
   ]
  },
  {
   "cell_type": "code",
   "execution_count": 6,
   "metadata": {
    "execution": {
     "iopub.execute_input": "2021-02-18T15:53:21.102568Z",
     "iopub.status.busy": "2021-02-18T15:53:21.102039Z",
     "iopub.status.idle": "2021-02-18T15:53:21.105689Z",
     "shell.execute_reply": "2021-02-18T15:53:21.105282Z"
    },
    "papermill": {
     "duration": 0.031444,
     "end_time": "2021-02-18T15:53:21.105786",
     "exception": false,
     "start_time": "2021-02-18T15:53:21.074342",
     "status": "completed"
    },
    "tags": []
   },
   "outputs": [],
   "source": [
    "submission_df = pd.DataFrame({\"image_id\": dset.fnames, \"label\": preds})"
   ]
  },
  {
   "cell_type": "code",
   "execution_count": 7,
   "metadata": {
    "execution": {
     "iopub.execute_input": "2021-02-18T15:53:21.154709Z",
     "iopub.status.busy": "2021-02-18T15:53:21.153674Z",
     "iopub.status.idle": "2021-02-18T15:53:21.381972Z",
     "shell.execute_reply": "2021-02-18T15:53:21.380963Z"
    },
    "papermill": {
     "duration": 0.253832,
     "end_time": "2021-02-18T15:53:21.382111",
     "exception": false,
     "start_time": "2021-02-18T15:53:21.128279",
     "status": "completed"
    },
    "tags": []
   },
   "outputs": [],
   "source": [
    "submission_df.to_csv(\"submission.csv\", index=False)"
   ]
  },
  {
   "cell_type": "code",
   "execution_count": null,
   "metadata": {
    "papermill": {
     "duration": 0.022289,
     "end_time": "2021-02-18T15:53:21.427469",
     "exception": false,
     "start_time": "2021-02-18T15:53:21.405180",
     "status": "completed"
    },
    "tags": []
   },
   "outputs": [],
   "source": []
  }
 ],
 "metadata": {
  "kernelspec": {
   "display_name": "Python 3",
   "language": "python",
   "name": "python3"
  },
  "language_info": {
   "codemirror_mode": {
    "name": "ipython",
    "version": 3
   },
   "file_extension": ".py",
   "mimetype": "text/x-python",
   "name": "python",
   "nbconvert_exporter": "python",
   "pygments_lexer": "ipython3",
   "version": "3.7.6"
  },
  "papermill": {
   "duration": 43.600929,
   "end_time": "2021-02-18T15:53:21.957594",
   "environment_variables": {},
   "exception": null,
   "input_path": "__notebook__.ipynb",
   "output_path": "__notebook__.ipynb",
   "parameters": {},
   "start_time": "2021-02-18T15:52:38.356665",
   "version": "2.1.0"
  }
 },
 "nbformat": 4,
 "nbformat_minor": 4
}
