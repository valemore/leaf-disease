{
 "cells": [
  {
   "cell_type": "code",
   "execution_count": null,
   "metadata": {},
   "outputs": [],
   "source": [
    "from pathlib import Path\n",
    "from tqdm import tqdm\n",
    "import math\n",
    "\n",
    "import numpy as np\n",
    "import pandas as pd\n",
    "\n",
    "import torch\n",
    "import torch.nn as nn\n",
    "import torch.nn.functional as F\n",
    "from torch.optim import Adam, SGD\n",
    "from torchvision import transforms\n",
    "\n",
    "from leaf.dta import LeafDataset, LeafIterableDataset, LeafDataLoader, GetPatches, TransformPatches, RandomGreen, LeafDataLoader\n",
    "from leaf.model import LeafModel, train_one_epoch, validate_one_epoch, warmup\n",
    "from torch.utils.data import RandomSampler, DataLoader\n",
    "\n",
    "from torch.optim.lr_scheduler import CyclicLR\n",
    "\n",
    "from torch.utils.tensorboard import SummaryWriter\n",
    "\n",
    "\n",
    "# Transforms with normalizations for imagenet\n",
    "data_transforms = {\n",
    "    'train': transforms.Compose([\n",
    "        transforms.ToTensor(),\n",
    "        GetPatches(800, 600, 224, include_whole=False),#, min_ratio=None, min_value=None, min_hue=None, max_hue=None),\n",
    "        # TransformPatches([\n",
    "        #     transforms.Normalize([0.485, 0.456, 0.406], [0.229, 0.224, 0.225]),\n",
    "        # ]),\n",
    "        transforms.Lambda(lambda patches: torch.stack(patches)),\n",
    "        transforms.Normalize([0.485, 0.456, 0.406], [0.229, 0.224, 0.225])\n",
    "    ]),\n",
    "    'val': transforms.Compose([\n",
    "        transforms.ToTensor(),\n",
    "        GetPatches(800, 600, 224, include_whole=False),#, min_ratio=None, min_value=None, min_hue=None, max_hue=None),\n",
    "        # TransformPatches([\n",
    "        #     transforms.Normalize([0.485, 0.456, 0.406], [0.229, 0.224, 0.225]),\n",
    "        # ]),\n",
    "        transforms.Lambda(lambda patches: torch.stack(patches)),\n",
    "        transforms.Normalize([0.485, 0.456, 0.406], [0.229, 0.224, 0.225])\n",
    "\n",
    "    ])\n",
    "}"
   ]
  },
  {
   "cell_type": "code",
   "execution_count": null,
   "metadata": {},
   "outputs": [],
   "source": [
    "output_dir = Path(\"/mnt/hdd/leaf-disease-outputs\")\n",
    "output_dir.mkdir(exist_ok=True)\n",
    "logging_dir = Path(\"/mnt/hdd/leaf-disease-runs\")\n",
    "logging_dir.mkdir(exist_ok=True)\n",
    "\n",
    "batch_size = 1\n",
    "val_batch_size = 2\n",
    "\n",
    "num_workers = 4\n",
    "\n",
    "train_dset = LeafDataset(\"./data/train_images\", \"./data/train_images/labels.csv\", transform=data_transforms[\"train\"], tiny=False)\n",
    "val_dset = LeafDataset(\"./data/val_images\", \"./data/val_images/labels.csv\", transform=data_transforms[\"val\"], tiny=False)\n",
    "# RandomGreen variant\n",
    "#train_dset = LeafDataset(\"./data/train_images\", \"./data/train_images/labels.csv\", transform=data_transforms[\"train\"])\n",
    "\n",
    "train_dataloader = LeafDataLoader(train_dset, batch_size=batch_size, shuffle=True, num_workers=num_workers, max_samples_per_image=12)\n",
    "val_dataloader = LeafDataLoader(val_dset, batch_size=val_batch_size, shuffle=False, num_workers=num_workers, max_samples_per_image=12)\n",
    "#train_dataloader = DataLoader(train_dset, batch_size=batch_size, sampler=RandomSampler(train_dset, replacement=True), num_workers=num_workers, pin_memory=True)"
   ]
  },
  {
   "cell_type": "code",
   "execution_count": null,
   "metadata": {},
   "outputs": [],
   "source": [
    "leaf_model = LeafModel(\"tf_efficientnet_b0_ns\", model_prefix=\"NEW\", output_dir=output_dir, logging_dir=logging_dir, ragged_batches=True)\n",
    "# optimizer = Adam(leaf_model.model.parameters(), lr=learning_rate, weight_decay=weight_decay)\n",
    "optimizer = Adam(leaf_model.model.parameters(), lr=1e-4, weight_decay=1e-6)\n",
    "scheduler = None\n",
    "#scheduler = torch.optim.lr_scheduler.CosineAnnealingWarmRestarts(optimizer, T_0=T_0, T_mult=1, eta_min=min_learning_rate, last_epoch=-1)\n",
    "leaf_model.update_optimizer_scheduler(optimizer, scheduler)"
   ]
  },
  {
   "cell_type": "code",
   "execution_count": null,
   "metadata": {},
   "outputs": [],
   "source": [
    "#leaf_model.load_checkpoint(\"NEW-epochs-5\")"
   ]
  },
  {
   "cell_type": "code",
   "execution_count": null,
   "metadata": {},
   "outputs": [],
   "source": [
    "leaf_model.model_prefix = \"NEW\""
   ]
  },
  {
   "cell_type": "code",
   "execution_count": null,
   "metadata": {},
   "outputs": [],
   "source": [
    "# learning_rate = 1e-6\n",
    "# #min_learning_rate = 1e-6\n",
    "# weight_decay = 5e-9\n",
    "\n",
    "# #T_0 = 10"
   ]
  },
  {
   "cell_type": "code",
   "execution_count": null,
   "metadata": {},
   "outputs": [],
   "source": [
    "# optimizer = Adam(leaf_model.model.parameters(), lr=learning_rate, weight_decay=weight_decay)\n",
    "# scheduler = None"
   ]
  },
  {
   "cell_type": "code",
   "execution_count": null,
   "metadata": {},
   "outputs": [],
   "source": [
    "# optimizer = SGD(leaf_model.model.parameters(), lr=1e-3, weight_decay=weight_decay)\n",
    "# scheduler = CyclicLR(optimizer, 1e-6, 1e-3, step_size_up=2*len(train_dataloader), mode=\"exp_range\", gamma=0.9)"
   ]
  },
  {
   "cell_type": "code",
   "execution_count": null,
   "metadata": {},
   "outputs": [],
   "source": [
    "# leaf_model.update_optimizer_scheduler(optimizer, scheduler)"
   ]
  },
  {
   "cell_type": "code",
   "execution_count": null,
   "metadata": {},
   "outputs": [],
   "source": [
    "run_name = \"NEW-5-epochs\"\n",
    "for epoch in range(2):\n",
    "    epoch_name = f\"{run_name}-{epoch}\"\n",
    "    train_one_epoch(leaf_model, train_dataloader, log_steps=2000, val_data_loader=val_dataloader, save_at_log_steps=True, epoch_name=epoch_name)\n",
    "    val_loss, raw_val_acc, val_acc = validate_one_epoch(leaf_model, val_dataloader, ensemble_patches=True)\n",
    "    print(f\"Validation after epoch {epoch}: loss {val_loss}, raw acc {raw_val_acc}, acc {val_acc}\")\n",
    "    tb_writer = SummaryWriter(log_dir=leaf_model.logging_model_dir / epoch_name)\n",
    "    val_step = epoch * len(train_dataloader)\n",
    "    tb_writer.add_scalar(\"loss/val\", val_loss, val_step)\n",
    "    tb_writer.add_scalar(\"raw_acc/val\", raw_val_acc, val_step)\n",
    "    tb_writer.add_scalar(\"acc/val\", val_acc, val_step)\n",
    "    tb_writer.close()\n",
    "    leaf_model.save_checkpoint(f\"{epoch_name}\", epoch=epoch)"
   ]
  },
  {
   "cell_type": "code",
   "execution_count": null,
   "metadata": {},
   "outputs": [],
   "source": [
    "res = validate_one_epoch(leaf_model, val_dataloader)"
   ]
  },
  {
   "cell_type": "code",
   "execution_count": null,
   "metadata": {},
   "outputs": [],
   "source": [
    "foo = timm.create_model(model_name=\"tf_efficientnet_b4_ns\", input_size=(3, 380, 380), num_classes=5, pretrained=True)"
   ]
  },
  {
   "cell_type": "code",
   "execution_count": null,
   "metadata": {},
   "outputs": [],
   "source": [
    "dir(leaf_model.model)"
   ]
  },
  {
   "cell_type": "code",
   "execution_count": null,
   "metadata": {},
   "outputs": [],
   "source": [
    "foo = torch.randn((8, 3, 244, 244)).to(leaf_model.device)"
   ]
  },
  {
   "cell_type": "code",
   "execution_count": null,
   "metadata": {},
   "outputs": [],
   "source": [
    "with torch.no_grad():\n",
    "    bar = leaf_model.model.forward(foo)"
   ]
  },
  {
   "cell_type": "code",
   "execution_count": null,
   "metadata": {},
   "outputs": [],
   "source": [
    "bar.shape"
   ]
  },
  {
   "cell_type": "code",
   "execution_count": null,
   "metadata": {},
   "outputs": [],
   "source": [
    "bigfoo = torch.randn((8, 3, 380, 380)).to(leaf_model.device)"
   ]
  },
  {
   "cell_type": "code",
   "execution_count": null,
   "metadata": {},
   "outputs": [],
   "source": [
    "with torch.no_grad():\n",
    "    bigbar = leaf_model.model.forward(foo)"
   ]
  },
  {
   "cell_type": "code",
   "execution_count": null,
   "metadata": {},
   "outputs": [],
   "source": [
    "\n",
    "bigbar.shape"
   ]
  },
  {
   "cell_type": "code",
   "execution_count": null,
   "metadata": {},
   "outputs": [],
   "source": []
  }
 ],
 "metadata": {
  "kernelspec": {
   "display_name": "Python 3",
   "language": "python",
   "name": "python3"
  },
  "language_info": {
   "codemirror_mode": {
    "name": "ipython",
    "version": 3
   },
   "file_extension": ".py",
   "mimetype": "text/x-python",
   "name": "python",
   "nbconvert_exporter": "python",
   "pygments_lexer": "ipython3",
   "version": "3.8.5"
  }
 },
 "nbformat": 4,
 "nbformat_minor": 4
}
