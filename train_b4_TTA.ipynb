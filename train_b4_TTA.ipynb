{
 "cells": [
  {
   "cell_type": "code",
   "execution_count": null,
   "metadata": {},
   "outputs": [],
   "source": [
    "# parent: train_vanilla_TTA-TWO"
   ]
  },
  {
   "cell_type": "code",
   "execution_count": null,
   "metadata": {},
   "outputs": [],
   "source": [
    "from pathlib import Path\n",
    "from tqdm import tqdm\n",
    "import math\n",
    "\n",
    "import numpy as np\n",
    "import pandas as pd\n",
    "\n",
    "import torch\n",
    "import torch.nn as nn\n",
    "import torch.nn.functional as F\n",
    "from torch.optim import Adam, SGD\n",
    "from torchvision import transforms\n",
    "\n",
    "from leaf.dta import LeafDataset, LeafIterableDataset, LeafDataLoader, GetPatches, TransformPatches, RandomGreen, LeafDataLoader, GetRandomCrops, GetRandomResizedCrops\n",
    "from leaf.model import LeafModel, train_one_epoch, validate_one_epoch, warmup\n",
    "from torch.utils.data import RandomSampler, DataLoader\n",
    "\n",
    "from torch.optim.lr_scheduler import CyclicLR\n",
    "\n",
    "from torch.utils.tensorboard import SummaryWriter\n",
    "\n",
    "\n",
    "# Transforms with normalizations for imagenet\n",
    "data_transforms = {\n",
    "    'train': transforms.Compose([\n",
    "        transforms.ToTensor(),\n",
    "        GetRandomCrops(6, size=380),\n",
    "        TransformPatches(transforms.RandomHorizontalFlip()),\n",
    "        transforms.Lambda(lambda patches: torch.stack(patches)),\n",
    "        transforms.Normalize([0.485, 0.456, 0.406], [0.229, 0.224, 0.225])\n",
    "    ]),\n",
    "    'val': transforms.Compose([\n",
    "        transforms.ToTensor(),\n",
    "        GetRandomCrops(6, size=380),\n",
    "        TransformPatches(transforms.RandomHorizontalFlip()),\n",
    "        transforms.Lambda(lambda patches: torch.stack(patches)),\n",
    "        transforms.Normalize([0.485, 0.456, 0.406], [0.229, 0.224, 0.225])\n",
    "\n",
    "    ])\n",
    "}\n",
    "max_samples_per_image = 6\n",
    "ragged_batches = False"
   ]
  },
  {
   "cell_type": "code",
   "execution_count": null,
   "metadata": {},
   "outputs": [],
   "source": [
    "output_dir = Path(\"/mnt/hdd/leaf-disease-outputs\")\n",
    "output_dir.mkdir(exist_ok=True)\n",
    "logging_dir = Path(\"/mnt/hdd/leaf-disease-runs\")\n",
    "logging_dir.mkdir(exist_ok=True)\n",
    "\n",
    "batch_size = 1\n",
    "val_batch_size = 2\n",
    "\n",
    "num_workers = 4\n",
    "\n",
    "train_dset = LeafDataset(\"./data/train_images\", \"./data/train_images/labels.csv\", transform=data_transforms[\"train\"], tiny=False)\n",
    "val_dset = LeafDataset(\"./data/val_images\", \"./data/val_images/labels.csv\", transform=data_transforms[\"val\"], tiny=False)\n",
    "# RandomGreen variant\n",
    "#train_dset = LeafDataset(\"./data/train_images\", \"./data/train_images/labels.csv\", transform=data_transforms[\"train\"])\n",
    "\n",
    "train_dataloader = LeafDataLoader(train_dset, batch_size=batch_size, shuffle=True, num_workers=num_workers, max_samples_per_image=max_samples_per_image)\n",
    "val_dataloader = LeafDataLoader(val_dset, batch_size=val_batch_size, shuffle=False, num_workers=num_workers, max_samples_per_image=max_samples_per_image)\n",
    "#train_dataloader = DataLoader(train_dset, batch_size=batch_size, sampler=RandomSampler(train_dset, replacement=True), num_workers=num_workers, pin_memory=True)"
   ]
  },
  {
   "cell_type": "code",
   "execution_count": null,
   "metadata": {},
   "outputs": [],
   "source": [
    "learning_rate = 1e-4\n",
    "weight_decay = 1e-6\n",
    "num_epochs = 1\n",
    "log_steps = 1000"
   ]
  },
  {
   "cell_type": "code",
   "execution_count": null,
   "metadata": {},
   "outputs": [],
   "source": [
    "leaf_model = LeafModel(\"tf_efficientnet_b4\", model_prefix=\"b4_tta\", output_dir=output_dir, logging_dir=logging_dir, ragged_batches=ragged_batches)\n",
    "# optimizer = Adam(leaf_model.model.parameters(), lr=learning_rate, weight_decay=weight_decay)\n",
    "optimizer = Adam(leaf_model.model.parameters(), lr=learning_rate, weight_decay=weight_decay)\n",
    "#scheduler = torch.optim.lr_scheduler.CosineAnnealingWarmRestarts(optimizer, T_0=T_0, T_mult=1, eta_min=min_learning_rate, last_epoch=-1)\n",
    "scheduler = torch.optim.lr_scheduler.OneCycleLR(optimizer, max_lr=learning_rate, epochs=num_epochs, steps_per_epoch=len(train_dataloader), )\n",
    "leaf_model.update_optimizer_scheduler(optimizer, scheduler)"
   ]
  },
  {
   "cell_type": "code",
   "execution_count": null,
   "metadata": {},
   "outputs": [],
   "source": [
    "run_name = f\"{leaf_model.model_prefix}-{num_epochs}-epochs\"\n",
    "for epoch in range(1, num_epochs+1):\n",
    "    epoch_name = f\"{run_name}-{epoch}\"\n",
    "    train_one_epoch(leaf_model, train_dataloader, log_steps=log_steps, val_data_loader=val_dataloader, save_at_log_steps=True, epoch_name=epoch_name)\n",
    "    val_loss, val_raw_acc, val_logits_mean_acc, val_probs_mean_acc = validate_one_epoch(leaf_model, val_dataloader)\n",
    "    print(f\"Validation after epoch {epoch}: loss {val_loss}, raw acc {val_raw_acc}, logits mean acc {val_logits_mean_acc}, probs mean acc {val_probs_mean_acc}\")\n",
    "    tb_writer = SummaryWriter(log_dir=leaf_model.logging_model_dir / epoch_name)\n",
    "    val_step = epoch * len(train_dataloader)\n",
    "    tb_writer.add_scalar(\"loss/val\", val_loss, val_step)\n",
    "    tb_writer.add_scalar(\"raw_acc/val\", val_raw_acc, val_step)\n",
    "    tb_writer.add_scalar(\"logits_mean_acc/val\", val_logits_mean_acc, val_step)\n",
    "    tb_writer.add_scalar(\"probs_mean_acc/val\", val_probs_mean_acc, val_step)\n",
    "    tb_writer.close()\n",
    "    leaf_model.save_checkpoint(f\"{epoch_name}\", epoch=epoch)"
   ]
  },
  {
   "cell_type": "code",
   "execution_count": null,
   "metadata": {},
   "outputs": [],
   "source": [
    "#torch.cuda.empty_cache()"
   ]
  },
  {
   "cell_type": "code",
   "execution_count": null,
   "metadata": {},
   "outputs": [],
   "source": [
    "alt_transform = transforms.Compose([\n",
    "        transforms.ToTensor(),\n",
    "        GetPatches(800, 600, 380, test_colors=False, include_center=False),\n",
    "        transforms.Lambda(lambda patches: torch.stack(patches)),\n",
    "        transforms.Normalize([0.485, 0.456, 0.406], [0.229, 0.224, 0.225])\n",
    "])\n",
    "alt_val_dset = LeafDataset(\"./data/val_images\", \"./data/val_images/labels.csv\", transform=alt_transform, tiny=False)\n",
    "alt_val_dataloader = LeafDataLoader(alt_val_dset, batch_size=3, shuffle=False, num_workers=num_workers, max_samples_per_image=6)"
   ]
  },
  {
   "cell_type": "code",
   "execution_count": null,
   "metadata": {},
   "outputs": [],
   "source": [
    "run_name = f\"{leaf_model.model_prefix}-{num_epochs}-epochs\"\n",
    "for epoch in range(1, num_epochs+1):\n",
    "    epoch_name = f\"{run_name}-{epoch}\"\n",
    "    leaf_model.load_checkpoint(f\"{epoch_name}\")\n",
    "    val_loss, val_raw_acc, val_logits_mean_acc, val_probs_mean_acc = validate_one_epoch(leaf_model, val_dataloader)\n",
    "    print(f\"Validation after epoch {epoch}: loss {val_loss}, raw acc {val_raw_acc}, logits mean acc {val_logits_mean_acc}, probs mean acc {val_probs_mean_acc}\")"
   ]
  },
  {
   "cell_type": "code",
   "execution_count": null,
   "metadata": {},
   "outputs": [],
   "source": []
  }
 ],
 "metadata": {
  "kernelspec": {
   "display_name": "Python 3",
   "language": "python",
   "name": "python3"
  },
  "language_info": {
   "codemirror_mode": {
    "name": "ipython",
    "version": 3
   },
   "file_extension": ".py",
   "mimetype": "text/x-python",
   "name": "python",
   "nbconvert_exporter": "python",
   "pygments_lexer": "ipython3",
   "version": "3.8.5"
  }
 },
 "nbformat": 4,
 "nbformat_minor": 4
}
