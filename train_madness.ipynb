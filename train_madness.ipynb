{
 "cells": [
  {
   "cell_type": "code",
   "execution_count": null,
   "metadata": {},
   "outputs": [],
   "source": [
    "from pathlib import Path\n",
    "from tqdm import tqdm\n",
    "import math\n",
    "\n",
    "import numpy as np\n",
    "import pandas as pd\n",
    "\n",
    "import torch\n",
    "import torch.nn as nn\n",
    "import torch.nn.functional as F\n",
    "from torch.optim import Adam, SGD\n",
    "from torchvision import transforms\n",
    "\n",
    "from leaf.dta import LeafDataset, GetPatches, TransformPatches, RandomGreen, LeafDataLoader\n",
    "from leaf.model import LeafModel, train_one_epoch, validate_one_epoch, warmup\n",
    "from torch.utils.data import RandomSampler, DataLoader\n",
    "\n",
    "from torch.optim.lr_scheduler import CyclicLR\n",
    "\n",
    "from torch.utils.tensorboard import SummaryWriter\n",
    "\n",
    "\n",
    "# Transforms with normalizations for imagenet\n",
    "data_transforms = {\n",
    "    'train': transforms.Compose([\n",
    "        transforms.ToTensor(),\n",
    "        RandomGreen(224, 224),\n",
    "        transforms.RandomHorizontalFlip(),\n",
    "        transforms.Normalize([0.485, 0.456, 0.406], [0.229, 0.224, 0.225])\n",
    "    ]),\n",
    "    'val': transforms.Compose([\n",
    "        transforms.ToTensor(),\n",
    "        transforms.Normalize([0.485, 0.456, 0.406], [0.229, 0.224, 0.225])\n",
    "    ]),\n",
    "    'warmup': transforms.Compose([\n",
    "        transforms.ToTensor(),\n",
    "        RandomGreen(224, 224),\n",
    "        transforms.RandomHorizontalFlip(),\n",
    "        transforms.Normalize([0.485, 0.456, 0.406], [0.229, 0.224, 0.225])\n",
    "    ]),\n",
    "    'patches': transforms.Compose([\n",
    "        transforms.ToTensor(),\n",
    "        transforms.RandomHorizontalFlip(),\n",
    "        transforms.Normalize([0.485, 0.456, 0.406], [0.229, 0.224, 0.225]),\n",
    "    ])\n",
    "}"
   ]
  },
  {
   "cell_type": "code",
   "execution_count": null,
   "metadata": {},
   "outputs": [],
   "source": [
    "save_dir = Path(\"/mnt/hdd/leaf-disease-outputs\")\n",
    "save_dir.mkdir(exist_ok=True)\n",
    "logging_dir = Path(\"/mnt/hdd/leaf-disease-runs\")\n",
    "logging_dir.mkdir(exist_ok=True)\n",
    "\n",
    "batch_size = 16\n",
    "val_batch_size = 32\n",
    "\n",
    "num_workers = 4\n",
    "\n",
    "learning_rate = 1e-4\n",
    "#min_learning_rate = 1e-6\n",
    "weight_decay = 1e-6\n",
    "warmup_lr = 1e-7\n",
    "\n",
    "#T_0 = 10\n",
    "\n",
    "patches_logging_steps = 1000\n",
    "train_logging_steps = 250\n",
    "save_checkpoints = True\n",
    "\n",
    "train_dset = LeafDataset(\"./data/train_images\", \"./data/train_images/labels.csv\", transform=data_transforms[\"train\"])\n",
    "patches_dset = LeafDataset(\"./data/patches_train\", \"./data/patches_train/labels.csv\", extended_labels=True, transform=data_transforms[\"patches\"])\n",
    "warmup_dset = LeafDataset(\"./data/train_images\", \"./data/train_images/labels.csv\", transform=data_transforms[\"warmup\"])\n",
    "val_dset = LeafDataset(\"./data/patches_val\", \"./data/patches_val/labels.csv\", extended_labels=True, transform=data_transforms[\"val\"])\n",
    "\n",
    "train_dataloader = DataLoader(train_dset, batch_size=batch_size, sampler=RandomSampler(train_dset, replacement=True), num_workers=num_workers, pin_memory=True)\n",
    "patches_dataloader = LeafDataLoader(patches_dset, batch_size=batch_size, shuffle=True, num_workers=num_workers)\n",
    "val_dataloader = LeafDataLoader(val_dset, batch_size=val_batch_size, shuffle=False, num_workers=num_workers)\n",
    "\n",
    "leaf_model = LeafModel(\"tf_efficientnet_b4_ns\", model_prefix=\"MONEVE\", save_dir=save_dir, logging_dir=logging_dir)\n",
    "\n",
    "# optimizer = Adam(leaf_model.model.parameters(), lr=learning_rate, weight_decay=weight_decay)\n",
    "optimizer = Adam(leaf_model.model.parameters(), lr=learning_rate, weight_decay=weight_decay)\n",
    "scheduler = None\n",
    "#scheduler = torch.optim.lr_scheduler.CosineAnnealingWarmRestarts(optimizer, T_0=T_0, T_mult=1, eta_min=min_learning_rate, last_epoch=-1)\n",
    "leaf_model.update_optimizer_scheduler(optimizer, scheduler)"
   ]
  },
  {
   "cell_type": "code",
   "execution_count": null,
   "metadata": {},
   "outputs": [],
   "source": [
    "leaf_model.load_checkpoint(\"MONEVE_epoch_2\")"
   ]
  },
  {
   "cell_type": "code",
   "execution_count": null,
   "metadata": {},
   "outputs": [],
   "source": [
    "optimizer = SGD(leaf_model.model.parameters(), lr=1e-3, weight_decay=weight_decay)\n",
    "scheduler = CyclicLR(optimizer, 1e-6, 1e-3, step_size_up=2*len(train_dataloader), mode=\"exp_range\", gamma=0.9)"
   ]
  },
  {
   "cell_type": "code",
   "execution_count": null,
   "metadata": {},
   "outputs": [],
   "source": [
    "leaf_model.update_optimizer_scheduler(optimizer, scheduler)"
   ]
  },
  {
   "cell_type": "code",
   "execution_count": null,
   "metadata": {},
   "outputs": [],
   "source": [
    "run_name = \"RandomGreen-40-epochs\"\n",
    "tb_writer = SummaryWriter(log_dir=leaf_model.logging_dir / run_name)\n",
    "for epoch in range(40):\n",
    "    train_one_epoch(leaf_model, train_dataloader, log_steps=200, save_at_log_steps=save_checkpoints, epoch_name=f\"{run_name}-{epoch}\")\n",
    "    val_loss, val_acc = validate_one_epoch(leaf_model, val_dataloader)\n",
    "    leaf_model.log_validation(val_loss, val_acc, epoch, tb_writer)\n",
    "    leaf_model.save_checkpoint(f\"{run_name}-{epoch}\", epoch=epoch)"
   ]
  },
  {
   "cell_type": "code",
   "execution_count": null,
   "metadata": {},
   "outputs": [],
   "source": [
    "optimizer = SGD(leaf_model.model.parameters(), lr=1e-3, weight_decay=weight_decay)\n",
    "scheduler = CyclicLR(optimizer, 1e-6, 1e-3, step_size_up=len(train_dataloader), mode=\"triangular2\")"
   ]
  },
  {
   "cell_type": "code",
   "execution_count": null,
   "metadata": {},
   "outputs": [],
   "source": [
    "n_steps = 4 * len(train_dataloader)\n",
    "optimizer_lr_array = np.zeros((n_steps,))\n",
    "scheduler_lr_array = np.zeros((n_steps,))"
   ]
  },
  {
   "cell_type": "code",
   "execution_count": null,
   "metadata": {},
   "outputs": [],
   "source": [
    "class MyNet(nn.Module):\n",
    "    def __init__(self):\n",
    "        super().__init__()\n",
    "        self.linear = nn.Linear(1, 1)\n",
    "    \n",
    "    def forward(self, X):\n",
    "        return self.linear(X)"
   ]
  },
  {
   "cell_type": "code",
   "execution_count": null,
   "metadata": {},
   "outputs": [],
   "source": [
    "net = MyNet().to(torch.device(\"cuda\"))"
   ]
  },
  {
   "cell_type": "code",
   "execution_count": null,
   "metadata": {},
   "outputs": [],
   "source": [
    "for i in tqdm(range(n_steps)):\n",
    "    optimizer.zero_grad()\n",
    "    data = torch.tensor([1.0]).reshape(1, 1).to(torch.device(\"cuda\"))\n",
    "    out = net.forward(data)\n",
    "    out.backward()\n",
    "    optimizer_lr_array[i] = optimizer.param_groups[0][\"lr\"]\n",
    "    scheduler_lr_array[i] = scheduler.get_last_lr()[0]\n",
    "    optimizer.step()\n",
    "    scheduler.step()"
   ]
  },
  {
   "cell_type": "code",
   "execution_count": null,
   "metadata": {},
   "outputs": [],
   "source": [
    "import matplotlib.pyplot as plt"
   ]
  },
  {
   "cell_type": "code",
   "execution_count": null,
   "metadata": {},
   "outputs": [],
   "source": [
    "plt.plot(optimizer_lr_array)"
   ]
  },
  {
   "cell_type": "code",
   "execution_count": null,
   "metadata": {},
   "outputs": [],
   "source": [
    "plt.plot(scheduler_lr_array)"
   ]
  },
  {
   "cell_type": "code",
   "execution_count": null,
   "metadata": {},
   "outputs": [],
   "source": [
    "max(scheduler_lr_array)"
   ]
  },
  {
   "cell_type": "code",
   "execution_count": null,
   "metadata": {},
   "outputs": [],
   "source": [
    "min(scheduler_lr_array)"
   ]
  },
  {
   "cell_type": "code",
   "execution_count": null,
   "metadata": {},
   "outputs": [],
   "source": [
    "df = pd.DataFrame({\"opt\": optimizer_lr_array, \"sched\": scheduler_lr_array })"
   ]
  },
  {
   "cell_type": "code",
   "execution_count": null,
   "metadata": {},
   "outputs": [],
   "source": [
    "df.iloc[-20:,:]"
   ]
  },
  {
   "cell_type": "code",
   "execution_count": null,
   "metadata": {},
   "outputs": [],
   "source": [
    "(optimizer_lr_array == scheduler_lr_array).all()"
   ]
  },
  {
   "cell_type": "code",
   "execution_count": null,
   "metadata": {},
   "outputs": [],
   "source": []
  }
 ],
 "metadata": {
  "kernelspec": {
   "display_name": "Python 3",
   "language": "python",
   "name": "python3"
  },
  "language_info": {
   "codemirror_mode": {
    "name": "ipython",
    "version": 3
   },
   "file_extension": ".py",
   "mimetype": "text/x-python",
   "name": "python",
   "nbconvert_exporter": "python",
   "pygments_lexer": "ipython3",
   "version": "3.8.5"
  }
 },
 "nbformat": 4,
 "nbformat_minor": 4
}
