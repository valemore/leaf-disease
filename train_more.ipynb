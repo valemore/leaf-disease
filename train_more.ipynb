{
 "cells": [
  {
   "cell_type": "code",
   "execution_count": null,
   "metadata": {},
   "outputs": [],
   "source": [
    "from pathlib import Path\n",
    "from tqdm import tqdm\n",
    "import math\n",
    "\n",
    "import numpy as np\n",
    "import pandas as pd\n",
    "\n",
    "import torch\n",
    "import torch.nn as nn\n",
    "import torch.nn.functional as F\n",
    "from torch.optim import Adam\n",
    "from torchvision import transforms\n",
    "\n",
    "from leaf.dta import LeafDataset, GetPatches, TransformPatches, RandomGreen, LeafDataLoader\n",
    "from leaf.model import LeafModel, train_one_epoch, validate_one_epoch, warmup\n",
    "\n",
    "\n",
    "# Transforms with normalizations for imagenet\n",
    "data_transforms = {\n",
    "    'train': transforms.Compose([\n",
    "        transforms.ToTensor(),\n",
    "        RandomGreen(224, 224),\n",
    "        transforms.RandomHorizontalFlip(),\n",
    "        transforms.Normalize([0.485, 0.456, 0.406], [0.229, 0.224, 0.225])\n",
    "    ]),\n",
    "    'val': transforms.Compose([\n",
    "        transforms.ToTensor(),\n",
    "        transforms.Normalize([0.485, 0.456, 0.406], [0.229, 0.224, 0.225])\n",
    "    ]),\n",
    "    'warmup': transforms.Compose([\n",
    "        transforms.ToTensor(),\n",
    "        RandomGreen(224, 224),\n",
    "        transforms.RandomHorizontalFlip(),\n",
    "        transforms.Normalize([0.485, 0.456, 0.406], [0.229, 0.224, 0.225])\n",
    "    ]),\n",
    "    'patches': transforms.Compose([\n",
    "        transforms.ToTensor(),\n",
    "        transforms.RandomHorizontalFlip(),\n",
    "        transforms.Normalize([0.485, 0.456, 0.406], [0.229, 0.224, 0.225]),\n",
    "    ])\n",
    "}"
   ]
  },
  {
   "cell_type": "code",
   "execution_count": null,
   "metadata": {},
   "outputs": [],
   "source": [
    "save_dir = Path(\"/mnt/hdd/leaf-disease-outputs\")\n",
    "save_dir.mkdir(exist_ok=True)\n",
    "logging_dir = Path(\"/mnt/hdd/leaf-disease-runs\")\n",
    "logging_dir.mkdir(exist_ok=True)\n",
    "\n",
    "batch_size = 16\n",
    "val_batch_size = 32\n",
    "\n",
    "num_workers = 4\n",
    "\n",
    "learning_rate = 1e-4\n",
    "#min_learning_rate = 1e-6\n",
    "weight_decay = 1e-6\n",
    "warmup_lr = 1e-7\n",
    "\n",
    "#T_0 = 10\n",
    "\n",
    "patches_logging_steps = 1000\n",
    "save_checkpoints = True\n",
    "\n",
    "train_dset = LeafDataset(\"./data/train_images\", \"./data/train_images/labels.csv\", transform=data_transforms[\"train\"])\n",
    "patches_dset = LeafDataset(\"./data/patches_train\", \"./data/patches_train/labels.csv\", extended_labels=True, transform=data_transforms[\"patches\"])\n",
    "warmup_dset = LeafDataset(\"./data/train_images\", \"./data/train_images/labels.csv\", transform=data_transforms[\"warmup\"])\n",
    "val_dset = LeafDataset(\"./data/patches_val\", \"./data/patches_val/labels.csv\", extended_labels=True, transform=data_transforms[\"val\"])\n",
    "\n",
    "train_dataloader = LeafDataLoader(train_dset, batch_size=batch_size, shuffle=True, num_workers=num_workers)\n",
    "patches_dataloader = LeafDataLoader(patches_dset, batch_size=batch_size, shuffle=True, num_workers=num_workers)\n",
    "val_dataloader = LeafDataLoader(val_dset, batch_size=val_batch_size, shuffle=False, num_workers=num_workers)\n",
    "\n",
    "leaf_model = LeafModel(\"tf_efficientnet_b4_ns\", model_prefix=\"MONEVE\", save_dir=save_dir, logging_dir=logging_dir)\n",
    "\n",
    "# optimizer = Adam(leaf_model.model.parameters(), lr=learning_rate, weight_decay=weight_decay)\n",
    "optimizer = Adam(leaf_model.model.parameters(), lr=learning_rate, weight_decay=weight_decay)\n",
    "scheduler = None\n",
    "#scheduler = torch.optim.lr_scheduler.CosineAnnealingWarmRestarts(optimizer, T_0=T_0, T_mult=1, eta_min=min_learning_rate, last_epoch=-1)\n",
    "leaf_model.update_optimizer_scheduler(optimizer, scheduler)"
   ]
  },
  {
   "cell_type": "code",
   "execution_count": null,
   "metadata": {},
   "outputs": [],
   "source": [
    "leaf_model.optimizer.param_groups[0]['lr'] = 1e-5\n",
    "leaf_model.load_checkpoint(\"MONEVE_epoch_2\")"
   ]
  },
  {
   "cell_type": "code",
   "execution_count": null,
   "metadata": {},
   "outputs": [],
   "source": [
    "leaf_model.optimizer.param_groups[0]['lr'] = 1e-6"
   ]
  },
  {
   "cell_type": "code",
   "execution_count": null,
   "metadata": {},
   "outputs": [],
   "source": [
    "train_one_epoch(leaf_model, patches_dataloader, log_steps=patches_logging_steps, val_data_loader=val_dataloader, save_at_log_steps=save_checkpoints, epoch_name=\"3b\")"
   ]
  },
  {
   "cell_type": "code",
   "execution_count": null,
   "metadata": {},
   "outputs": [],
   "source": [
    "leaf_model.save_checkpoint(\"MONEVE_epoch_3_maybe_wrong\", epoch=3)"
   ]
  },
  {
   "cell_type": "code",
   "execution_count": null,
   "metadata": {},
   "outputs": [],
   "source": [
    "#leaf_model.optimizer.param_groups[0]['lr'] = 1e-5\n",
    "leaf_model.load_checkpoint(\"MONEVE_epoch_2\")"
   ]
  },
  {
   "cell_type": "code",
   "execution_count": null,
   "metadata": {},
   "outputs": [],
   "source": [
    "val_loss, val_acc = validate_one_epoch(leaf_model, val_dataloader)"
   ]
  },
  {
   "cell_type": "code",
   "execution_count": null,
   "metadata": {},
   "outputs": [],
   "source": [
    "val_acc"
   ]
  },
  {
   "cell_type": "code",
   "execution_count": null,
   "metadata": {},
   "outputs": [],
   "source": [
    "leaf_model.optimizer.param_groups[0]['lr'] = 1e-7"
   ]
  },
  {
   "cell_type": "code",
   "execution_count": null,
   "metadata": {},
   "outputs": [],
   "source": [
    "leaf_model.optimizer"
   ]
  },
  {
   "cell_type": "code",
   "execution_count": null,
   "metadata": {},
   "outputs": [],
   "source": [
    "train_one_epoch(leaf_model, patches_dataloader, log_steps=patches_logging_steps, val_data_loader=val_dataloader, save_at_log_steps=save_checkpoints, epoch_name=\"3butits2\")"
   ]
  },
  {
   "cell_type": "code",
   "execution_count": null,
   "metadata": {},
   "outputs": [],
   "source": [
    "val_loss, val_acc = validate_one_epoch(leaf_model, val_dataloader)"
   ]
  },
  {
   "cell_type": "code",
   "execution_count": null,
   "metadata": {},
   "outputs": [],
   "source": [
    "val_loss, val_acc"
   ]
  },
  {
   "cell_type": "code",
   "execution_count": null,
   "metadata": {},
   "outputs": [],
   "source": [
    "leaf_model.save_checkpoint(\"MONEVE_epoch_3butits2\", epoch=3)"
   ]
  },
  {
   "cell_type": "code",
   "execution_count": null,
   "metadata": {},
   "outputs": [],
   "source": [
    "#warmup(leaf_model, train_dataloader, 10000, log_warmup=True)"
   ]
  },
  {
   "cell_type": "code",
   "execution_count": null,
   "metadata": {},
   "outputs": [],
   "source": [
    "torch.cuda.empty_cache()"
   ]
  },
  {
   "cell_type": "code",
   "execution_count": null,
   "metadata": {},
   "outputs": [],
   "source": []
  }
 ],
 "metadata": {
  "kernelspec": {
   "display_name": "Python 3",
   "language": "python",
   "name": "python3"
  },
  "language_info": {
   "codemirror_mode": {
    "name": "ipython",
    "version": 3
   },
   "file_extension": ".py",
   "mimetype": "text/x-python",
   "name": "python",
   "nbconvert_exporter": "python",
   "pygments_lexer": "ipython3",
   "version": "3.8.5"
  }
 },
 "nbformat": 4,
 "nbformat_minor": 4
}
