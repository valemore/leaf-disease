{
 "cells": [
  {
   "cell_type": "code",
   "execution_count": 1,
   "metadata": {},
   "outputs": [],
   "source": [
    "from pathlib import Path\n",
    "from tqdm import tqdm\n",
    "import math\n",
    "\n",
    "import numpy as np\n",
    "import pandas as pd\n",
    "\n",
    "import torch\n",
    "import torch.nn as nn\n",
    "import torch.nn.functional as F\n",
    "from torch.optim import Adam\n",
    "from torchvision import transforms\n",
    "\n",
    "from leaf.dta import LeafDataset, GetPatches, TransformPatches, RandomGreen, LeafDataLoader\n",
    "from leaf.model import LeafModel, train_one_epoch, validate_one_epoch, warmup\n",
    "\n",
    "\n",
    "# Transforms with normalizations for imagenet\n",
    "data_transforms = {\n",
    "    'train': transforms.Compose([\n",
    "        transforms.ToTensor(),\n",
    "        RandomGreen(224, 224),\n",
    "        transforms.RandomHorizontalFlip(),\n",
    "        transforms.Normalize([0.485, 0.456, 0.406], [0.229, 0.224, 0.225])\n",
    "    ]),\n",
    "    'val': transforms.Compose([\n",
    "        transforms.ToTensor(),\n",
    "        transforms.Normalize([0.485, 0.456, 0.406], [0.229, 0.224, 0.225])\n",
    "    ]),\n",
    "    'warmup': transforms.Compose([\n",
    "        transforms.ToTensor(),\n",
    "        RandomGreen(224, 224),\n",
    "        transforms.RandomHorizontalFlip(),\n",
    "        transforms.Normalize([0.485, 0.456, 0.406], [0.229, 0.224, 0.225])\n",
    "    ]),\n",
    "    'patches': transforms.Compose([\n",
    "        transforms.ToTensor()\n",
    "    ])\n",
    "}"
   ]
  },
  {
   "cell_type": "code",
   "execution_count": null,
   "metadata": {},
   "outputs": [],
   "source": [
    "save_dir = Path(\"/mnt/hdd/leaf-disease-outputs\")\n",
    "save_dir.mkdir(exist_ok=True)\n",
    "logging_dir = Path(\"/mnt/hdd/leaf-disease-runs\")\n",
    "logging_dir.mkdir(exist_ok=True)\n",
    "\n",
    "batch_size = 16\n",
    "val_batch_size = 32\n",
    "\n",
    "num_workers = 4\n",
    "\n",
    "learning_rate = 1e-4\n",
    "weight_decay = 1e-6\n",
    "warmup_lr = 1e-7\n",
    "\n",
    "# n_epochs = 5\n",
    "# T_0 = 10\n",
    "# batch_size = 16\n",
    "# val_batch_size = 32\n",
    "# learning_rate = 1e-4\n",
    "# min_learning_rate = 1e-6\n",
    "# final_layers_lr = 0.0\n",
    "# weight_decay = 1e-6\n",
    "# final_layers_wd = 0.0\n",
    "# timm_args ={\n",
    "#     \"model_name\": 'tf_efficientnet_b4_ns',\n",
    "#     \"num_classes\": 5\n",
    "# }\n",
    "# # efficientnet_args = {\n",
    "# #     \"model_name\": 'efficientnet-b4',\n",
    "# #     \"num_classes\": 5\n",
    "# # }\n",
    "\n",
    "\n",
    "patches_logging_steps = 1000\n",
    "save_checkpoints = True\n",
    "\n",
    "train_dset = LeafDataset(\"./data/train_images\", \"./data/train_images/labels.csv\", transform=data_transforms[\"train\"])\n",
    "patches_dset = LeafDataset(\"./data/patches_train\", \"./data/patches_train/labels.csv\", extended_labels=True, transform=data_transforms[\"patches\"])\n",
    "#warmup_dset = LeafDataset(\"./data/train_images\", \"./data/train_images/labels.csv\", transform=data_transforms[\"warmup\"])\n",
    "val_dset = LeafDataset(\"./data/patches_val\", \"./data/patches_val/labels.csv\", extended_labels=True, transform=data_transforms[\"val\"])\n",
    "\n",
    "train_dataloader = LeafDataLoader(train_dset, batch_size=batch_size, shuffle=True, num_workers=num_workers)\n",
    "patches_dataloader = LeafDataLoader(patches_dset, batch_size=batch_size, shuffle=True, num_workers=num_workers)\n",
    "val_dataloader = LeafDataLoader(val_dset, batch_size=val_batch_size, shuffle=False, num_workers=num_workers)\n",
    "\n",
    "leaf_model = LeafModel(\"tf_efficientnet_b4_ns\", model_prefix=\"MON\", save_dir=save_dir, logging_dir=logging_dir)\n",
    "\n",
    "optimizer = Adam(leaf_model.model.parameters(), lr=learning_rate, weight_decay=weight_decay)\n",
    "#scheduler = torch.optim.lr_scheduler.CosineAnnealingWarmRestarts(optimizer, T_0=T_0, T_mult=1, eta_min=min_learning_rate, last_epoch=-1)\n",
    "#scheduler = torch.optim.lr_scheduler.OneCycleLR(optimizer, max_lr=learning_rate, steps_per_epoch=len(train_dataloader), epochs=n_epochs)\n",
    "leaf_model.update_optimizer_scheduler(optimizer, None)\n",
    "\n",
    "warmup(leaf_model, train_dataloader, 500, warmup_lr, log_warmup=True)\n",
    "train_one_epoch(leaf_model, patches_dataloader, log_steps=patches_logging_steps, val_data_loader=val_dataloader, save_at_log_steps=save_checkpoints, epoch_name=1)"
   ]
  },
  {
   "cell_type": "code",
   "execution_count": 3,
   "metadata": {},
   "outputs": [],
   "source": [
    "leaf_model.save_checkpoint(\"MON_wip_warmup_one_epoch_wrong_lr\", optimizer, 1)"
   ]
  },
  {
   "cell_type": "markdown",
   "metadata": {},
   "source": [
    "Not run:"
   ]
  },
  {
   "cell_type": "code",
   "execution_count": 5,
   "metadata": {},
   "outputs": [
    {
     "name": "stderr",
     "output_type": "stream",
     "text": [
      "100%|██████████| 831/831 [00:59<00:00, 14.04it/s]\n"
     ]
    }
   ],
   "source": [
    "val_loss, val_acc = validate_one_epoch(leaf_model, val_dataloader)"
   ]
  },
  {
   "cell_type": "code",
   "execution_count": 7,
   "metadata": {},
   "outputs": [
    {
     "data": {
      "text/plain": [
       "0.20838039304269257"
      ]
     },
     "execution_count": 7,
     "metadata": {},
     "output_type": "execute_result"
    }
   ],
   "source": [
    "val_acc"
   ]
  },
  {
   "cell_type": "code",
   "execution_count": 12,
   "metadata": {},
   "outputs": [
    {
     "name": "stderr",
     "output_type": "stream",
     "text": [
      "  0%|          | 0/831 [00:00<?, ?it/s]\n"
     ]
    }
   ],
   "source": [
    "with torch.no_grad():\n",
    "    logits_all = torch.zeros((val_dataloader.num_padded_samples, 5), dtype=float, device=leaf_model.device)\n",
    "    labels_all = torch.zeros((val_dataloader.num_padded_samples), dtype=int, device=leaf_model.device)\n",
    "    i = 0\n",
    "    for imgs, labels in tqdm(val_dataloader):\n",
    "        break"
   ]
  },
  {
   "cell_type": "code",
   "execution_count": 20,
   "metadata": {},
   "outputs": [],
   "source": [
    "with torch.no_grad():\n",
    "    imgs = imgs.to(leaf_model.device)\n",
    "    logits = leaf_model.model.forward(imgs)"
   ]
  },
  {
   "cell_type": "code",
   "execution_count": 24,
   "metadata": {},
   "outputs": [],
   "source": [
    "preds = logits.argmax(axis=-1)"
   ]
  },
  {
   "cell_type": "code",
   "execution_count": 26,
   "metadata": {},
   "outputs": [
    {
     "data": {
      "text/plain": [
       "tensor([2, 1, 2, 0, 0, 3, 4, 0, 3, 2, 1, 3, 2, 0, 3, 3, 1, 4, 2, 0, 3, 0, 2, 2,\n",
       "        0, 4, 3, 3, 0, 0, 3, 0], device='cuda:0')"
      ]
     },
     "execution_count": 26,
     "metadata": {},
     "output_type": "execute_result"
    }
   ],
   "source": [
    "preds"
   ]
  },
  {
   "cell_type": "code",
   "execution_count": 27,
   "metadata": {},
   "outputs": [
    {
     "data": {
      "text/plain": [
       "tensor([2, 2, 2, 2, 2, 2, 2, 2, 2, 2, 2, 2, 2, 3, 3, 3, 3, 3, 3, 3, 3, 3, 3, 3,\n",
       "        3, 3, 3, 3, 3, 3, 3, 3])"
      ]
     },
     "execution_count": 27,
     "metadata": {},
     "output_type": "execute_result"
    }
   ],
   "source": [
    "labels"
   ]
  },
  {
   "cell_type": "code",
   "execution_count": 22,
   "metadata": {},
   "outputs": [
    {
     "data": {
      "text/plain": [
       "torch.Size([32, 5])"
      ]
     },
     "execution_count": 22,
     "metadata": {},
     "output_type": "execute_result"
    }
   ],
   "source": [
    "logits.shape"
   ]
  },
  {
   "cell_type": "code",
   "execution_count": 23,
   "metadata": {},
   "outputs": [
    {
     "data": {
      "text/plain": [
       "torch.Size([32, 3, 224, 224])"
      ]
     },
     "execution_count": 23,
     "metadata": {},
     "output_type": "execute_result"
    }
   ],
   "source": [
    "imgs.shape"
   ]
  },
  {
   "cell_type": "code",
   "execution_count": null,
   "metadata": {},
   "outputs": [],
   "source": []
  }
 ],
 "metadata": {
  "kernelspec": {
   "display_name": "Python 3",
   "language": "python",
   "name": "python3"
  },
  "language_info": {
   "codemirror_mode": {
    "name": "ipython",
    "version": 3
   },
   "file_extension": ".py",
   "mimetype": "text/x-python",
   "name": "python",
   "nbconvert_exporter": "python",
   "pygments_lexer": "ipython3",
   "version": "3.8.5"
  }
 },
 "nbformat": 4,
 "nbformat_minor": 4
}
